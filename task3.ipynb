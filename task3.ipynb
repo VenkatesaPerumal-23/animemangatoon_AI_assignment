{
  "nbformat": 4,
  "nbformat_minor": 0,
  "metadata": {
    "colab": {
      "provenance": []
    },
    "kernelspec": {
      "name": "python3",
      "display_name": "Python 3"
    },
    "language_info": {
      "name": "python"
    }
  },
  "cells": [
    {
      "cell_type": "code",
      "execution_count": 1,
      "metadata": {
        "colab": {
          "base_uri": "https://localhost:8080/"
        },
        "id": "sTwKq49stHXs",
        "outputId": "13d982c5-661f-4ff4-eb7a-5439553c165a"
      },
      "outputs": [
        {
          "output_type": "stream",
          "name": "stdout",
          "text": [
            "Requirement already satisfied: nltk in /usr/local/lib/python3.10/dist-packages (3.8.1)\n",
            "Requirement already satisfied: click in /usr/local/lib/python3.10/dist-packages (from nltk) (8.1.7)\n",
            "Requirement already satisfied: joblib in /usr/local/lib/python3.10/dist-packages (from nltk) (1.4.2)\n",
            "Requirement already satisfied: regex>=2021.8.3 in /usr/local/lib/python3.10/dist-packages (from nltk) (2024.9.11)\n",
            "Requirement already satisfied: tqdm in /usr/local/lib/python3.10/dist-packages (from nltk) (4.66.5)\n"
          ]
        }
      ],
      "source": [
        "pip install nltk"
      ]
    },
    {
      "cell_type": "code",
      "source": [
        "import nltk\n",
        "from nltk.tokenize import word_tokenize\n",
        "\n",
        "# Download required NLTK data\n",
        "nltk.download('punkt')\n",
        "\n",
        "# Define responses\n",
        "responses = {\n",
        "    \"castle swimmer\": \"Castle Swimmer is about Siren, a prophesied savior, who must break curses but discovers he's cursed himself. The story explores his journey and internal conflict.\",\n",
        "    \"main characters\": \"The main characters are Siren, Kappa, Pim, Pagoon, and Arp. Siren is central to the prophecy, and Kappa plays a key role in helping him understand his destiny.\",\n",
        "    \"chapter 83\": \"In Chapter 83, Siren discovers that he's cursed himself, and the prophecy has trapped him in a fatal situation. He decides to fight against the prophecy to live.\",\n",
        "    \"chapter 84\": \"Chapter 84 reveals that a mini-god must sustain the curse, and Siren faces disorientation upon returning to familiar grounds. He struggles with trust issues, but his allies help him regain some hope.\",\n",
        "    \"chapter 85\": \"Chapter 85 focuses on apologies and confessions as Siren reflects on his past, including painful memories of his mother.\",\n",
        "    \"chapter 86\": \"In Chapter 86, Siren sets out to find Kappa, who might hold the key to breaking the curse. The chapter also gives background on Kappa's relationship with Arp.\",\n",
        "    \"chapter 87\": \"Chapter 87 explores Kappa's internal conflict as he faces a new prophecy, adding complexity to his journey.\",\n",
        "    \"chapter 88\": \"In Chapter 88, Queen Nethimir advises Kappa to return to the crab, and the chapter delves into Kappa's struggle to follow a new prophecy.\",\n",
        "    \"chapter 89\": \"In Chapter 89, Kappa meets Queen Nee, who expresses her surprise and admiration. The chapter highlights Kappa's growth and ends with a new challenge.\"\n",
        "}\n",
        "\n",
        "# Function to find a response based on keywords\n",
        "def get_response(user_input):\n",
        "    # Tokenize user input and convert to lowercase\n",
        "    tokens = word_tokenize(user_input.lower())\n",
        "    # Check for keywords in the tokens\n",
        "    for key in responses:\n",
        "        if key in user_input.lower():\n",
        "            return responses[key]\n",
        "    return \"I'm sorry, I don't understand that question.\"\n",
        "\n",
        "# Chatbot interaction\n",
        "def chatbot():\n",
        "    print(\"Welcome to the Castle Swimmer Chatbot! Ask me anything about chapters 83-89 or the main plot.\")\n",
        "    while True:\n",
        "        user_input = input(\"You: \")\n",
        "        if user_input.lower() == \"exit\":\n",
        "            print(\"Goodbye!\")\n",
        "            break\n",
        "        response = get_response(user_input)\n",
        "        print(\"Bot:\", response)\n",
        "\n",
        "# Start the chatbot\n",
        "chatbot()\n"
      ],
      "metadata": {
        "colab": {
          "base_uri": "https://localhost:8080/"
        },
        "id": "eQggqE7gtNIm",
        "outputId": "47c0f53a-0cee-4c18-9b13-e49ac665a135"
      },
      "execution_count": 3,
      "outputs": [
        {
          "output_type": "stream",
          "name": "stderr",
          "text": [
            "[nltk_data] Downloading package punkt to /root/nltk_data...\n",
            "[nltk_data]   Package punkt is already up-to-date!\n"
          ]
        },
        {
          "output_type": "stream",
          "name": "stdout",
          "text": [
            "Welcome to the Castle Swimmer Chatbot! Ask me anything about chapters 83-89 or the main plot.\n",
            "You: Tell me about Chapter 83\n",
            "Bot: In Chapter 83, Siren discovers that he's cursed himself, and the prophecy has trapped him in a fatal situation. He decides to fight against the prophecy to live.\n",
            "You: Who are the main characters?\n",
            "Bot: The main characters are Siren, Kappa, Pim, Pagoon, and Arp. Siren is central to the prophecy, and Kappa plays a key role in helping him understand his destiny.\n",
            "You: What is Castle Swimmer about\n",
            "Bot: Castle Swimmer is about Siren, a prophesied savior, who must break curses but discovers he's cursed himself. The story explores his journey and internal conflict.\n",
            "You: exitr\n",
            "Bot: I'm sorry, I don't understand that question.\n",
            "You: exit\n",
            "Goodbye!\n"
          ]
        }
      ]
    },
    {
      "cell_type": "code",
      "source": [],
      "metadata": {
        "id": "Rp_rLfsKtRr3"
      },
      "execution_count": null,
      "outputs": []
    }
  ]
}