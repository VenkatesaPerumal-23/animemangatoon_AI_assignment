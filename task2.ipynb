{
  "nbformat": 4,
  "nbformat_minor": 0,
  "metadata": {
    "colab": {
      "provenance": []
    },
    "kernelspec": {
      "name": "python3",
      "display_name": "Python 3"
    },
    "language_info": {
      "name": "python"
    }
  },
  "cells": [
    {
      "cell_type": "code",
      "execution_count": 1,
      "metadata": {
        "colab": {
          "base_uri": "https://localhost:8080/"
        },
        "id": "mSs3EnjXq_Id",
        "outputId": "f059db0e-2fce-4c4d-e214-58172a37c4a2"
      },
      "outputs": [
        {
          "output_type": "stream",
          "name": "stdout",
          "text": [
            "Total comments analyzed: 8\n",
            "Positive comments: 62.50%\n",
            "Negative comments: 12.50%\n"
          ]
        }
      ],
      "source": [
        "from textblob import TextBlob\n",
        "\n",
        "# Step 1: Sample user comments related to \"The Difference Between Manga And Manhwa\"\n",
        "comments = [\n",
        "    \"I love how detailed this comparison is! Really helped me understand the differences.\",\n",
        "    \"Manga has always been better than manhwa in terms of storytelling.\",\n",
        "    \"Manhwa is too slow-paced for me, not my style.\",\n",
        "    \"Both have their own merits, but I personally prefer manhwa.\",\n",
        "    \"This article was so insightful and well-researched!\",\n",
        "    \"I don't agree with the point about art style. Manhwa is much more visually appealing.\",\n",
        "    \"Manga fans are always so biased! It's annoying.\",\n",
        "    \"The historical context of manhwa is really fascinating.\"\n",
        "]\n",
        "\n",
        "# Step 2: Analyze sentiment for each comment\n",
        "positive_comments = 0\n",
        "negative_comments = 0\n",
        "\n",
        "for comment in comments:\n",
        "    analysis = TextBlob(comment)\n",
        "    # Classifying the sentiment polarity: >0 positive, <0 negative, =0 neutral\n",
        "    if analysis.sentiment.polarity > 0:\n",
        "        positive_comments += 1\n",
        "    elif analysis.sentiment.polarity < 0:\n",
        "        negative_comments += 1\n",
        "\n",
        "# Step 3: Calculate the percentage of positive and negative comments\n",
        "total_comments = len(comments)\n",
        "positive_percentage = (positive_comments / total_comments) * 100\n",
        "negative_percentage = (negative_comments / total_comments) * 100\n",
        "\n",
        "# Step 4: Output the results\n",
        "print(f\"Total comments analyzed: {total_comments}\")\n",
        "print(f\"Positive comments: {positive_percentage:.2f}%\")\n",
        "print(f\"Negative comments: {negative_percentage:.2f}%\")\n"
      ]
    },
    {
      "cell_type": "code",
      "source": [],
      "metadata": {
        "id": "tvbG0R8crKyO"
      },
      "execution_count": null,
      "outputs": []
    }
  ]
}