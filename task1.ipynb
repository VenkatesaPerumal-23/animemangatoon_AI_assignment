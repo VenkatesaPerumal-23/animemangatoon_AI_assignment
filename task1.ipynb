{
  "nbformat": 4,
  "nbformat_minor": 0,
  "metadata": {
    "colab": {
      "provenance": []
    },
    "kernelspec": {
      "name": "python3",
      "display_name": "Python 3"
    },
    "language_info": {
      "name": "python"
    }
  },
  "cells": [
    {
      "cell_type": "code",
      "execution_count": null,
      "metadata": {
        "id": "2tGfJbvRny8M"
      },
      "outputs": [],
      "source": [
        "# Importing necessary libraries\n",
        "import pandas as pd\n",
        "from sklearn.model_selection import train_test_split, cross_val_score\n",
        "from sklearn.feature_extraction.text import TfidfVectorizer\n",
        "from sklearn.naive_bayes import MultinomialNB\n",
        "from sklearn.metrics import accuracy_score, classification_report"
      ]
    },
    {
      "cell_type": "code",
      "source": [
        "# Step 1: Data Preparation (small dataset of webtoon descriptions with categories)\n",
        "data = {\n",
        "    'description': [\n",
        "        \"Lim Ju Kyung encounters bullying and learns makeup skills to transform her appearance.\",\n",
        "        \"Park Hyung Seok discovers a handsome new body and learns how society treats him differently.\",\n",
        "        \"Tomo struggles with romantic feelings while her friend sees her as one of the guys.\",\n",
        "        \"Misaki leads the student council but secretly works at a maid cafe, balancing two identities.\",\n",
        "        \"Kyoko enters the entertainment industry to seek revenge on her childhood friend.\",\n",
        "        \"Kyouko Hori is popular in school but has a hidden life at home taking care of her brother.\",\n",
        "        \"Kang Mi Rae undergoes surgery to change her looks but still struggles with self-esteem issues.\",\n",
        "        \"Im Sol travels back in time to save her favorite idol from death.\",\n",
        "        \"Han Se-hye transforms into a different person every seven days, affecting her love life.\",\n",
        "        \"Hong Dae Young is transported back to his 18-year-old self, rediscovering family and love.\"\n",
        "    ],\n",
        "    'category': [\n",
        "        \"romance\",  # True Beauty-like\n",
        "        \"fantasy\",  # Lookism-like\n",
        "        \"romance\",  # Tomo-chan Is A Girl\n",
        "        \"romance\",  # Maid Sama!\n",
        "        \"action\",   # Skip Beat!!\n",
        "        \"romance\",  # Horimiya\n",
        "        \"romance\",  # Gangnam Beauty\n",
        "        \"fantasy\",  # Lovely Runner\n",
        "        \"fantasy\",  # The Beauty Inside\n",
        "        \"romance\"   # 18 Again\n",
        "    ]\n",
        "}\n",
        "\n",
        "# Convert the data to a DataFrame\n",
        "df = pd.DataFrame(data)\n",
        "\n",
        "# Step 2: Feature Extraction (Using TF-IDF Vectorization to convert text to numerical features)\n",
        "vectorizer = TfidfVectorizer(stop_words='english')\n",
        "X = vectorizer.fit_transform(df['description'])\n",
        "y = df['category']\n",
        "\n",
        "# Step 3: Model Selection (Naive Bayes)\n",
        "model = MultinomialNB()\n",
        "\n",
        "# Step 4: Cross-Validation\n",
        "# Perform 5-fold cross-validation on the dataset to evaluate the model\n",
        "cv_scores = cross_val_score(model, X, y, cv=5)\n",
        "\n",
        "# Step 5: Train-Test Split\n",
        "X_train, X_test, y_train, y_test = train_test_split(X, y, test_size=0.2, random_state=42)\n",
        "\n",
        "# Step 6: Model Training\n",
        "model.fit(X_train, y_train)\n",
        "\n",
        "# Step 7: Model Evaluation on Test Set\n",
        "y_pred = model.predict(X_test)\n",
        "\n",
        "# Step 8: Results\n",
        "\n",
        "# Cross-Validation Accuracy\n",
        "print(f\"Cross-Validation Accuracy: {cv_scores.mean() * 100:.2f}%\")\n",
        "\n",
        "# Print accuracy score on test data\n",
        "accuracy = accuracy_score(y_test, y_pred)\n",
        "print(f\"Test Accuracy: {accuracy * 100:.2f}%\")\n",
        "\n",
        "# Print classification report for precision, recall, and F1-score\n",
        "print(\"\\nClassification Report:\")\n",
        "print(classification_report(y_test, y_pred))\n"
      ],
      "metadata": {
        "colab": {
          "base_uri": "https://localhost:8080/"
        },
        "id": "mXwakbFrn4bT",
        "outputId": "d0fb8227-ad99-44c4-f5be-e0ec228751d9"
      },
      "execution_count": null,
      "outputs": [
        {
          "output_type": "stream",
          "name": "stdout",
          "text": [
            "Cross-Validation Accuracy: 60.00%\n",
            "Test Accuracy: 0.00%\n",
            "\n",
            "Classification Report:\n",
            "              precision    recall  f1-score   support\n",
            "\n",
            "     fantasy       0.00      0.00      0.00       2.0\n",
            "     romance       0.00      0.00      0.00       0.0\n",
            "\n",
            "    accuracy                           0.00       2.0\n",
            "   macro avg       0.00      0.00      0.00       2.0\n",
            "weighted avg       0.00      0.00      0.00       2.0\n",
            "\n"
          ]
        },
        {
          "output_type": "stream",
          "name": "stderr",
          "text": [
            "/usr/local/lib/python3.10/dist-packages/sklearn/model_selection/_split.py:776: UserWarning: The least populated class in y has only 1 members, which is less than n_splits=5.\n",
            "  warnings.warn(\n",
            "/usr/local/lib/python3.10/dist-packages/sklearn/metrics/_classification.py:1531: UndefinedMetricWarning: Precision is ill-defined and being set to 0.0 in labels with no predicted samples. Use `zero_division` parameter to control this behavior.\n",
            "  _warn_prf(average, modifier, f\"{metric.capitalize()} is\", len(result))\n",
            "/usr/local/lib/python3.10/dist-packages/sklearn/metrics/_classification.py:1531: UndefinedMetricWarning: Recall is ill-defined and being set to 0.0 in labels with no true samples. Use `zero_division` parameter to control this behavior.\n",
            "  _warn_prf(average, modifier, f\"{metric.capitalize()} is\", len(result))\n",
            "/usr/local/lib/python3.10/dist-packages/sklearn/metrics/_classification.py:1531: UndefinedMetricWarning: Precision is ill-defined and being set to 0.0 in labels with no predicted samples. Use `zero_division` parameter to control this behavior.\n",
            "  _warn_prf(average, modifier, f\"{metric.capitalize()} is\", len(result))\n",
            "/usr/local/lib/python3.10/dist-packages/sklearn/metrics/_classification.py:1531: UndefinedMetricWarning: Recall is ill-defined and being set to 0.0 in labels with no true samples. Use `zero_division` parameter to control this behavior.\n",
            "  _warn_prf(average, modifier, f\"{metric.capitalize()} is\", len(result))\n",
            "/usr/local/lib/python3.10/dist-packages/sklearn/metrics/_classification.py:1531: UndefinedMetricWarning: Precision is ill-defined and being set to 0.0 in labels with no predicted samples. Use `zero_division` parameter to control this behavior.\n",
            "  _warn_prf(average, modifier, f\"{metric.capitalize()} is\", len(result))\n",
            "/usr/local/lib/python3.10/dist-packages/sklearn/metrics/_classification.py:1531: UndefinedMetricWarning: Recall is ill-defined and being set to 0.0 in labels with no true samples. Use `zero_division` parameter to control this behavior.\n",
            "  _warn_prf(average, modifier, f\"{metric.capitalize()} is\", len(result))\n"
          ]
        }
      ]
    },
    {
      "cell_type": "code",
      "source": [],
      "metadata": {
        "id": "CI2yhjZooMY6"
      },
      "execution_count": null,
      "outputs": []
    }
  ]
}